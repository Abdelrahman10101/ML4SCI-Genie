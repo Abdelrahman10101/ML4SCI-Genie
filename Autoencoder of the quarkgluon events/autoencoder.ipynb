{
 "cells": [
  {
   "cell_type": "code",
   "execution_count": 1,
   "id": "1b9d1cb0",
   "metadata": {
    "_cell_guid": "b1076dfc-b9ad-4769-8c92-a6c4dae69d19",
    "_uuid": "8f2839f25d086af736a60e9eeb907d3b93b6e0e5",
    "execution": {
     "iopub.execute_input": "2025-04-08T06:52:45.109868Z",
     "iopub.status.busy": "2025-04-08T06:52:45.109614Z",
     "iopub.status.idle": "2025-04-08T06:52:55.784812Z",
     "shell.execute_reply": "2025-04-08T06:52:55.783670Z"
    },
    "papermill": {
     "duration": 10.681088,
     "end_time": "2025-04-08T06:52:55.786771",
     "exception": false,
     "start_time": "2025-04-08T06:52:45.105683",
     "status": "completed"
    },
    "tags": []
   },
   "outputs": [
    {
     "name": "stdout",
     "output_type": "stream",
     "text": [
      "Requirement already satisfied: gdown in /usr/local/lib/python3.10/dist-packages (5.2.0)\r\n",
      "Requirement already satisfied: beautifulsoup4 in /usr/local/lib/python3.10/dist-packages (from gdown) (4.12.3)\r\n",
      "Requirement already satisfied: filelock in /usr/local/lib/python3.10/dist-packages (from gdown) (3.17.0)\r\n",
      "Requirement already satisfied: requests[socks] in /usr/local/lib/python3.10/dist-packages (from gdown) (2.32.3)\r\n",
      "Requirement already satisfied: tqdm in /usr/local/lib/python3.10/dist-packages (from gdown) (4.67.1)\r\n",
      "Requirement already satisfied: soupsieve>1.2 in /usr/local/lib/python3.10/dist-packages (from beautifulsoup4->gdown) (2.6)\r\n",
      "Requirement already satisfied: charset-normalizer<4,>=2 in /usr/local/lib/python3.10/dist-packages (from requests[socks]->gdown) (3.4.1)\r\n",
      "Requirement already satisfied: idna<4,>=2.5 in /usr/local/lib/python3.10/dist-packages (from requests[socks]->gdown) (3.10)\r\n",
      "Requirement already satisfied: urllib3<3,>=1.21.1 in /usr/local/lib/python3.10/dist-packages (from requests[socks]->gdown) (2.3.0)\r\n",
      "Requirement already satisfied: certifi>=2017.4.17 in /usr/local/lib/python3.10/dist-packages (from requests[socks]->gdown) (2025.1.31)\r\n",
      "Requirement already satisfied: PySocks!=1.5.7,>=1.5.6 in /usr/local/lib/python3.10/dist-packages (from requests[socks]->gdown) (1.7.1)\r\n",
      "/usr/local/lib/python3.10/dist-packages/gdown/__main__.py:140: FutureWarning: Option `--id` was deprecated in version 4.3.1 and will be removed in 5.0. You don't need to pass it anymore to use a file ID.\r\n",
      "  warnings.warn(\r\n",
      "Downloading...\r\n",
      "From (original): https://drive.google.com/uc?id=1WO2K-SfU2dntGU4Bb3IYBp9Rh7rtTYEr\r\n",
      "From (redirected): https://drive.google.com/uc?id=1WO2K-SfU2dntGU4Bb3IYBp9Rh7rtTYEr&confirm=t&uuid=d0e28949-aec0-4449-a476-2c5dade25fd5\r\n",
      "To: /kaggle/working/filename\r\n",
      "100%|█████████████████████████████████████████| 701M/701M [00:02<00:00, 336MB/s]\r\n"
     ]
    }
   ],
   "source": [
    "! pip install gdown\n",
    "! gdown --id 1WO2K-SfU2dntGU4Bb3IYBp9Rh7rtTYEr -O filename"
   ]
  },
  {
   "cell_type": "code",
   "execution_count": 2,
   "id": "ec32e656",
   "metadata": {
    "execution": {
     "iopub.execute_input": "2025-04-08T06:52:55.798942Z",
     "iopub.status.busy": "2025-04-08T06:52:55.798673Z",
     "iopub.status.idle": "2025-04-08T06:52:56.864262Z",
     "shell.execute_reply": "2025-04-08T06:52:56.863379Z"
    },
    "papermill": {
     "duration": 1.07201,
     "end_time": "2025-04-08T06:52:56.865848",
     "exception": false,
     "start_time": "2025-04-08T06:52:55.793838",
     "status": "completed"
    },
    "tags": []
   },
   "outputs": [
    {
     "name": "stdout",
     "output_type": "stream",
     "text": [
      "\u001b[31mERROR: Could not find a version that satisfies the requirement h5p (from versions: none)\u001b[0m\u001b[31m\r\n",
      "\u001b[0m\u001b[31mERROR: No matching distribution found for h5p\u001b[0m\u001b[31m\r\n",
      "\u001b[0m"
     ]
    }
   ],
   "source": [
    "! pip install h5p"
   ]
  },
  {
   "cell_type": "code",
   "execution_count": 3,
   "id": "e88062dd",
   "metadata": {
    "execution": {
     "iopub.execute_input": "2025-04-08T06:52:56.875145Z",
     "iopub.status.busy": "2025-04-08T06:52:56.874876Z",
     "iopub.status.idle": "2025-04-08T06:53:16.265238Z",
     "shell.execute_reply": "2025-04-08T06:53:16.264309Z"
    },
    "papermill": {
     "duration": 19.396642,
     "end_time": "2025-04-08T06:53:16.266883",
     "exception": false,
     "start_time": "2025-04-08T06:52:56.870241",
     "status": "completed"
    },
    "tags": []
   },
   "outputs": [],
   "source": [
    "import torch\n",
    "import torch.nn as nn\n",
    "import torch.optim as optim\n",
    "import torchvision.transforms as transforms\n",
    "from torch.utils.data import DataLoader, TensorDataset\n",
    "import numpy as np\n",
    "import h5py\n",
    "from tqdm import tqdm\n",
    "import os\n",
    "from torch.optim.lr_scheduler import ReduceLROnPlateau\n",
    "from torch.utils.tensorboard import SummaryWriter\n",
    "import matplotlib.pyplot as plt\n",
    "import concurrent.futures"
   ]
  },
  {
   "cell_type": "markdown",
   "id": "ec8aafe4",
   "metadata": {
    "papermill": {
     "duration": 0.003822,
     "end_time": "2025-04-08T06:53:16.275196",
     "exception": false,
     "start_time": "2025-04-08T06:53:16.271374",
     "status": "completed"
    },
    "tags": []
   },
   "source": [
    "# 1. Custom Loss"
   ]
  },
  {
   "cell_type": "code",
   "execution_count": 4,
   "id": "23744218",
   "metadata": {
    "execution": {
     "iopub.execute_input": "2025-04-08T06:53:16.285632Z",
     "iopub.status.busy": "2025-04-08T06:53:16.285149Z",
     "iopub.status.idle": "2025-04-08T06:53:16.289831Z",
     "shell.execute_reply": "2025-04-08T06:53:16.289048Z"
    },
    "papermill": {
     "duration": 0.012081,
     "end_time": "2025-04-08T06:53:16.291186",
     "exception": false,
     "start_time": "2025-04-08T06:53:16.279105",
     "status": "completed"
    },
    "tags": []
   },
   "outputs": [],
   "source": [
    "class WeightedMSE(nn.Module):\n",
    "    def __init__(self, weight_nonzero=1000.0):\n",
    "        super().__init__()\n",
    "        self.weight_nonzero = weight_nonzero  # Higher weight for non-zero pixels\n",
    "\n",
    "    def forward(self, y_pred, y_true):\n",
    "        # Create weight tensor: 1.0 for zeros, `weight_nonzero` for non-zeros\n",
    "        weights = torch.where(y_true == 0, \n",
    "                            torch.tensor(1.0, device=y_true.device),\n",
    "                            torch.tensor(self.weight_nonzero, device=y_true.device))\n",
    "        \n",
    "        # Calculate weighted MSE\n",
    "        squared_error = (y_true - y_pred) ** 2\n",
    "        weighted_loss = weights * squared_error\n",
    "        return torch.mean(weighted_loss)"
   ]
  },
  {
   "cell_type": "markdown",
   "id": "1a426eec",
   "metadata": {
    "papermill": {
     "duration": 0.003674,
     "end_time": "2025-04-08T06:53:16.298851",
     "exception": false,
     "start_time": "2025-04-08T06:53:16.295177",
     "status": "completed"
    },
    "tags": []
   },
   "source": [
    "# 2. Configuration"
   ]
  },
  {
   "cell_type": "code",
   "execution_count": 5,
   "id": "55c2b73a",
   "metadata": {
    "execution": {
     "iopub.execute_input": "2025-04-08T06:53:16.307192Z",
     "iopub.status.busy": "2025-04-08T06:53:16.306944Z",
     "iopub.status.idle": "2025-04-08T06:53:16.310869Z",
     "shell.execute_reply": "2025-04-08T06:53:16.310093Z"
    },
    "papermill": {
     "duration": 0.009514,
     "end_time": "2025-04-08T06:53:16.312147",
     "exception": false,
     "start_time": "2025-04-08T06:53:16.302633",
     "status": "completed"
    },
    "tags": []
   },
   "outputs": [],
   "source": [
    "config = {\n",
    "    'batch_size': 64,\n",
    "    'num_epochs': 150,\n",
    "    'initial_lr': 1e-3,\n",
    "    'patience': 5,\n",
    "    'min_lr': 1e-6,\n",
    "    'num_workers': min(8, os.cpu_count()),  # Limit to 8 workers max\n",
    "    'pin_memory': True,\n",
    "    'persistent_workers': True,\n",
    "    'sparse_threshold': 1e-6,\n",
    "    'save_full_precision': True,\n",
    "    'precision_decimals': 8\n",
    "}\n",
    "\n",
    "# Set numerical precision\n",
    "torch.set_printoptions(precision=config['precision_decimals'])\n",
    "np.set_printoptions(precision=config['precision_decimals'])"
   ]
  },
  {
   "cell_type": "markdown",
   "id": "ee9a5202",
   "metadata": {
    "papermill": {
     "duration": 0.003685,
     "end_time": "2025-04-08T06:53:16.319805",
     "exception": false,
     "start_time": "2025-04-08T06:53:16.316120",
     "status": "completed"
    },
    "tags": []
   },
   "source": [
    "# 3. Custom Components"
   ]
  },
  {
   "cell_type": "code",
   "execution_count": 6,
   "id": "78a299fd",
   "metadata": {
    "execution": {
     "iopub.execute_input": "2025-04-08T06:53:16.328564Z",
     "iopub.status.busy": "2025-04-08T06:53:16.328366Z",
     "iopub.status.idle": "2025-04-08T06:53:16.335456Z",
     "shell.execute_reply": "2025-04-08T06:53:16.334875Z"
    },
    "papermill": {
     "duration": 0.012903,
     "end_time": "2025-04-08T06:53:16.336614",
     "exception": false,
     "start_time": "2025-04-08T06:53:16.323711",
     "status": "completed"
    },
    "tags": []
   },
   "outputs": [],
   "source": [
    "class HandleSparseImages:\n",
    "    def __call__(self, img):\n",
    "        sparse_mask = (img < config['sparse_threshold'])\n",
    "        noise = torch.randn_like(img) * config['sparse_threshold'] * 0.1\n",
    "        return torch.where(sparse_mask, img + noise, img)\n",
    "\n",
    "class JetAutoencoder(nn.Module):\n",
    "    def __init__(self):\n",
    "        super().__init__()\n",
    "        # Encoder\n",
    "        self.encoder = nn.Sequential(\n",
    "            nn.Conv2d(3, 64, 3, stride=2, padding=1),\n",
    "            nn.BatchNorm2d(64),\n",
    "            nn.LeakyReLU(0.2),\n",
    "            nn.Conv2d(64, 128, 3, stride=2, padding=1),\n",
    "            nn.BatchNorm2d(128),\n",
    "            nn.LeakyReLU(0.2),\n",
    "            nn.Conv2d(128, 256, 3, stride=2, padding=1),\n",
    "            nn.BatchNorm2d(256),\n",
    "            nn.LeakyReLU(0.2),\n",
    "            nn.Conv2d(256, 512, 3, stride=2, padding=1),\n",
    "            nn.BatchNorm2d(512),\n",
    "            nn.LeakyReLU(0.2),\n",
    "            nn.Flatten(),\n",
    "            nn.Linear(512*8*8, 4096),\n",
    "            nn.ReLU()\n",
    "        )\n",
    "        \n",
    "        # Decoder\n",
    "        self.decoder = nn.Sequential(\n",
    "            nn.Linear(4096, 512*8*8),\n",
    "            nn.ReLU(),\n",
    "            nn.Unflatten(1, (512, 8, 8)),\n",
    "            nn.ConvTranspose2d(512, 256, 3, stride=2, padding=1, output_padding=1),\n",
    "            nn.BatchNorm2d(256),\n",
    "            nn.ReLU(),\n",
    "            nn.ConvTranspose2d(256, 128, 3, stride=2, padding=1, output_padding=1),\n",
    "            nn.BatchNorm2d(128),\n",
    "            nn.ReLU(),\n",
    "            nn.ConvTranspose2d(128, 64, 3, stride=2, padding=1, output_padding=1),\n",
    "            nn.BatchNorm2d(64),\n",
    "            nn.ReLU(),\n",
    "            nn.ConvTranspose2d(64, 3, 3, stride=2, padding=1, output_padding=1),\n",
    "            nn.Sigmoid()\n",
    "        )\n",
    "    \n",
    "    def forward(self, x):\n",
    "        return self.decoder(self.encoder(x))"
   ]
  },
  {
   "cell_type": "markdown",
   "id": "b9ea1231",
   "metadata": {
    "papermill": {
     "duration": 0.003756,
     "end_time": "2025-04-08T06:53:16.344365",
     "exception": false,
     "start_time": "2025-04-08T06:53:16.340609",
     "status": "completed"
    },
    "tags": []
   },
   "source": [
    "# 4. Data Loading"
   ]
  },
  {
   "cell_type": "code",
   "execution_count": 7,
   "id": "47b5f6fc",
   "metadata": {
    "execution": {
     "iopub.execute_input": "2025-04-08T06:53:16.352752Z",
     "iopub.status.busy": "2025-04-08T06:53:16.352555Z",
     "iopub.status.idle": "2025-04-08T06:53:16.357955Z",
     "shell.execute_reply": "2025-04-08T06:53:16.357379Z"
    },
    "papermill": {
     "duration": 0.010964,
     "end_time": "2025-04-08T06:53:16.359168",
     "exception": false,
     "start_time": "2025-04-08T06:53:16.348204",
     "status": "completed"
    },
    "tags": []
   },
   "outputs": [],
   "source": [
    "def load_data():\n",
    "    print(\"Loading data with full precision...\")\n",
    "    with h5py.File('/kaggle/working/filename', 'r') as f:\n",
    "        X_jets = f['X_jets'][:30000].astype(np.float32)\n",
    "    \n",
    "    if config['save_full_precision']:\n",
    "        np.save('X_jets_original.npy', X_jets)\n",
    "        print(\"Saved original data with full precision\")\n",
    "    \n",
    "    transform = transforms.Compose([\n",
    "        transforms.ToPILImage(),\n",
    "        transforms.Resize((128, 128)),\n",
    "        transforms.ToTensor(),\n",
    "        transforms.Lambda(lambda x: (x - x.min()) / (x.max() - x.min())),\n",
    "        HandleSparseImages()\n",
    "    ])\n",
    "    \n",
    "    def process_batch(batch):\n",
    "        return torch.stack([transform(img) for img in batch])\n",
    "    \n",
    "    print(\"Processing images with all workers...\")\n",
    "    batches = np.array_split(X_jets, config['num_workers'])\n",
    "    results = []\n",
    "    \n",
    "    with concurrent.futures.ThreadPoolExecutor(max_workers=config['num_workers']) as executor:\n",
    "        futures = [executor.submit(process_batch, batch) for batch in batches]\n",
    "        for future in tqdm(concurrent.futures.as_completed(futures), \n",
    "                         total=len(futures),\n",
    "                         desc=\"Processing\"):\n",
    "            results.append(future.result())\n",
    "    \n",
    "    return torch.cat(results)"
   ]
  },
  {
   "cell_type": "markdown",
   "id": "dd9a870a",
   "metadata": {
    "papermill": {
     "duration": 0.003742,
     "end_time": "2025-04-08T06:53:16.366981",
     "exception": false,
     "start_time": "2025-04-08T06:53:16.363239",
     "status": "completed"
    },
    "tags": []
   },
   "source": [
    "# 5. Training Utilities"
   ]
  },
  {
   "cell_type": "code",
   "execution_count": 8,
   "id": "1a4f4826",
   "metadata": {
    "execution": {
     "iopub.execute_input": "2025-04-08T06:53:16.375511Z",
     "iopub.status.busy": "2025-04-08T06:53:16.375315Z",
     "iopub.status.idle": "2025-04-08T06:53:16.380656Z",
     "shell.execute_reply": "2025-04-08T06:53:16.380098Z"
    },
    "papermill": {
     "duration": 0.010937,
     "end_time": "2025-04-08T06:53:16.381824",
     "exception": false,
     "start_time": "2025-04-08T06:53:16.370887",
     "status": "completed"
    },
    "tags": []
   },
   "outputs": [],
   "source": [
    "def save_reconstructions(loader, epoch, n=5):\n",
    "    model.eval()\n",
    "    with torch.no_grad():\n",
    "        batch = next(iter(loader)).to(device)\n",
    "        reconstructions = model(batch[:n])\n",
    "        \n",
    "        if config['save_full_precision']:\n",
    "            np.save(f'reconstructions_epoch_{epoch}.npy', reconstructions.cpu().numpy())\n",
    "        \n",
    "        fig, axes = plt.subplots(2, n, figsize=(15, 6))\n",
    "        for i in range(n):\n",
    "            # Input image\n",
    "            axes[0,i].imshow(batch[i].cpu().permute(1,2,0))\n",
    "            axes[0,i].set_title(\n",
    "                f\"Input\\nMin: {batch[i].min().item():.{config['precision_decimals']}f}\\n\"\n",
    "                f\"Max: {batch[i].max().item():.{config['precision_decimals']}f}\"\n",
    "            )\n",
    "            # Reconstruction\n",
    "            axes[1,i].imshow(reconstructions[i].cpu().permute(1,2,0))\n",
    "            axes[1,i].set_title(\n",
    "                f\"Recon\\nMin: {reconstructions[i].min().item():.{config['precision_decimals']}f}\\n\"\n",
    "                f\"Max: {reconstructions[i].max().item():.{config['precision_decimals']}f}\"\n",
    "            )\n",
    "            axes[0,i].axis('off')\n",
    "            axes[1,i].axis('off')\n",
    "        \n",
    "        plt.tight_layout()\n",
    "        plt.savefig(f'reconstructions_epoch_{epoch}.png', dpi=300, bbox_inches='tight')\n",
    "        plt.close()"
   ]
  },
  {
   "cell_type": "markdown",
   "id": "aff518b9",
   "metadata": {
    "papermill": {
     "duration": 0.0038,
     "end_time": "2025-04-08T06:53:16.389654",
     "exception": false,
     "start_time": "2025-04-08T06:53:16.385854",
     "status": "completed"
    },
    "tags": []
   },
   "source": [
    "# 6. Main Training Loop"
   ]
  },
  {
   "cell_type": "code",
   "execution_count": 9,
   "id": "660d771f",
   "metadata": {
    "execution": {
     "iopub.execute_input": "2025-04-08T06:53:16.398385Z",
     "iopub.status.busy": "2025-04-08T06:53:16.398184Z",
     "iopub.status.idle": "2025-04-08T07:57:45.432171Z",
     "shell.execute_reply": "2025-04-08T07:57:45.431097Z"
    },
    "papermill": {
     "duration": 3869.04015,
     "end_time": "2025-04-08T07:57:45.433804",
     "exception": false,
     "start_time": "2025-04-08T06:53:16.393654",
     "status": "completed"
    },
    "tags": []
   },
   "outputs": [
    {
     "name": "stdout",
     "output_type": "stream",
     "text": [
      "Using device: cuda\n",
      "Loading data with full precision...\n",
      "Saved original data with full precision\n",
      "Processing images with all workers...\n"
     ]
    },
    {
     "name": "stderr",
     "output_type": "stream",
     "text": [
      "Processing: 100%|██████████| 4/4 [00:33<00:00,  8.47s/it]\n",
      "/usr/local/lib/python3.10/dist-packages/torch/optim/lr_scheduler.py:62: UserWarning: The verbose parameter is deprecated. Please use get_last_lr() to access the learning rate.\n",
      "  warnings.warn(\n",
      "Epoch 1/150 [Train]: 100%|██████████| 375/375 [00:40<00:00,  9.28it/s, loss=0.49744910, min=-0.00000048, max=1.00000000, sparse%=99.63]\n",
      "Epoch 1/150 [Val]: 100%|██████████| 47/47 [00:01<00:00, 24.31it/s, val_loss=0.50586444]\n"
     ]
    },
    {
     "name": "stdout",
     "output_type": "stream",
     "text": [
      "\n",
      "Epoch 1 Summary:\n",
      "Train Loss: 12.94556082\n",
      "Val Loss: 0.50132614\n"
     ]
    },
    {
     "name": "stderr",
     "output_type": "stream",
     "text": [
      "Epoch 2/150 [Train]: 100%|██████████| 375/375 [00:38<00:00,  9.69it/s, loss=0.21116814, min=-0.00000049, max=1.00000000, sparse%=99.63]\n",
      "Epoch 2/150 [Val]: 100%|██████████| 47/47 [00:01<00:00, 35.03it/s, val_loss=0.23018356]\n"
     ]
    },
    {
     "name": "stdout",
     "output_type": "stream",
     "text": [
      "\n",
      "Epoch 2 Summary:\n",
      "Train Loss: 0.30582380\n",
      "Val Loss: 0.22636931\n"
     ]
    },
    {
     "name": "stderr",
     "output_type": "stream",
     "text": [
      "Epoch 3/150 [Train]: 100%|██████████| 375/375 [00:38<00:00,  9.67it/s, loss=0.14543021, min=-0.00000056, max=1.00000000, sparse%=99.62]\n",
      "Epoch 3/150 [Val]: 100%|██████████| 47/47 [00:01<00:00, 35.06it/s, val_loss=0.16134073]\n"
     ]
    },
    {
     "name": "stdout",
     "output_type": "stream",
     "text": [
      "\n",
      "Epoch 3 Summary:\n",
      "Train Loss: 0.17854323\n",
      "Val Loss: 0.15880729\n"
     ]
    },
    {
     "name": "stderr",
     "output_type": "stream",
     "text": [
      "Epoch 4/150 [Train]: 100%|██████████| 375/375 [00:38<00:00,  9.67it/s, loss=0.11874663, min=-0.00000050, max=1.00000000, sparse%=99.64]\n",
      "Epoch 4/150 [Val]: 100%|██████████| 47/47 [00:01<00:00, 35.00it/s, val_loss=0.13387017]\n"
     ]
    },
    {
     "name": "stdout",
     "output_type": "stream",
     "text": [
      "\n",
      "Epoch 4 Summary:\n",
      "Train Loss: 0.13973403\n",
      "Val Loss: 0.13107611\n"
     ]
    },
    {
     "name": "stderr",
     "output_type": "stream",
     "text": [
      "Epoch 5/150 [Train]: 100%|██████████| 375/375 [00:38<00:00,  9.68it/s, loss=0.12296359, min=-0.00000048, max=1.00000000, sparse%=99.60]\n",
      "Epoch 5/150 [Val]: 100%|██████████| 47/47 [00:01<00:00, 35.71it/s, val_loss=0.11522058]\n"
     ]
    },
    {
     "name": "stdout",
     "output_type": "stream",
     "text": [
      "\n",
      "Epoch 5 Summary:\n",
      "Train Loss: 0.11980721\n",
      "Val Loss: 0.11290180\n"
     ]
    },
    {
     "name": "stderr",
     "output_type": "stream",
     "text": [
      "Epoch 6/150 [Train]: 100%|██████████| 375/375 [00:38<00:00,  9.67it/s, loss=0.09713852, min=-0.00000050, max=1.00000000, sparse%=99.62]\n",
      "Epoch 6/150 [Val]: 100%|██████████| 47/47 [00:01<00:00, 35.59it/s, val_loss=0.10304372]\n"
     ]
    },
    {
     "name": "stdout",
     "output_type": "stream",
     "text": [
      "\n",
      "Epoch 6 Summary:\n",
      "Train Loss: 0.10610898\n",
      "Val Loss: 0.10108222\n"
     ]
    },
    {
     "name": "stderr",
     "output_type": "stream",
     "text": [
      "Epoch 7/150 [Train]: 100%|██████████| 375/375 [00:38<00:00,  9.67it/s, loss=0.09132677, min=-0.00000052, max=1.00000000, sparse%=99.62]\n",
      "Epoch 7/150 [Val]: 100%|██████████| 47/47 [00:01<00:00, 35.00it/s, val_loss=0.09482460]\n"
     ]
    },
    {
     "name": "stdout",
     "output_type": "stream",
     "text": [
      "\n",
      "Epoch 7 Summary:\n",
      "Train Loss: 0.09652034\n",
      "Val Loss: 0.09229025\n"
     ]
    },
    {
     "name": "stderr",
     "output_type": "stream",
     "text": [
      "Epoch 8/150 [Train]: 100%|██████████| 375/375 [00:38<00:00,  9.66it/s, loss=0.08200678, min=-0.00000051, max=1.00000000, sparse%=99.63]\n",
      "Epoch 8/150 [Val]: 100%|██████████| 47/47 [00:01<00:00, 35.21it/s, val_loss=0.08880974]\n"
     ]
    },
    {
     "name": "stdout",
     "output_type": "stream",
     "text": [
      "\n",
      "Epoch 8 Summary:\n",
      "Train Loss: 0.08902873\n",
      "Val Loss: 0.08549533\n"
     ]
    },
    {
     "name": "stderr",
     "output_type": "stream",
     "text": [
      "Epoch 9/150 [Train]: 100%|██████████| 375/375 [00:38<00:00,  9.65it/s, loss=0.07582808, min=-0.00000055, max=1.00000000, sparse%=99.63]\n",
      "Epoch 9/150 [Val]: 100%|██████████| 47/47 [00:01<00:00, 35.51it/s, val_loss=0.08428446]\n"
     ]
    },
    {
     "name": "stdout",
     "output_type": "stream",
     "text": [
      "\n",
      "Epoch 9 Summary:\n",
      "Train Loss: 0.08275095\n",
      "Val Loss: 0.08061182\n"
     ]
    },
    {
     "name": "stderr",
     "output_type": "stream",
     "text": [
      "Epoch 10/150 [Train]: 100%|██████████| 375/375 [00:38<00:00,  9.65it/s, loss=0.07152171, min=-0.00000054, max=1.00000000, sparse%=99.62]\n",
      "Epoch 10/150 [Val]: 100%|██████████| 47/47 [00:01<00:00, 35.24it/s, val_loss=0.07810216]\n"
     ]
    },
    {
     "name": "stdout",
     "output_type": "stream",
     "text": [
      "\n",
      "Epoch 10 Summary:\n",
      "Train Loss: 0.07731614\n",
      "Val Loss: 0.07530573\n"
     ]
    },
    {
     "name": "stderr",
     "output_type": "stream",
     "text": [
      "Epoch 11/150 [Train]: 100%|██████████| 375/375 [00:38<00:00,  9.65it/s, loss=0.07111010, min=-0.00000049, max=1.00000000, sparse%=99.64]\n",
      "Epoch 11/150 [Val]: 100%|██████████| 47/47 [00:01<00:00, 35.64it/s, val_loss=0.07411699]\n"
     ]
    },
    {
     "name": "stdout",
     "output_type": "stream",
     "text": [
      "\n",
      "Epoch 11 Summary:\n",
      "Train Loss: 0.07183785\n",
      "Val Loss: 0.06996343\n"
     ]
    },
    {
     "name": "stderr",
     "output_type": "stream",
     "text": [
      "Epoch 12/150 [Train]: 100%|██████████| 375/375 [00:38<00:00,  9.64it/s, loss=0.05856387, min=-0.00000052, max=1.00000000, sparse%=99.61]\n",
      "Epoch 12/150 [Val]: 100%|██████████| 47/47 [00:01<00:00, 34.80it/s, val_loss=0.06743620]\n"
     ]
    },
    {
     "name": "stdout",
     "output_type": "stream",
     "text": [
      "\n",
      "Epoch 12 Summary:\n",
      "Train Loss: 0.06598961\n",
      "Val Loss: 0.06407834\n"
     ]
    },
    {
     "name": "stderr",
     "output_type": "stream",
     "text": [
      "Epoch 13/150 [Train]: 100%|██████████| 375/375 [00:38<00:00,  9.64it/s, loss=0.06075564, min=-0.00000051, max=1.00000000, sparse%=99.63]\n",
      "Epoch 13/150 [Val]: 100%|██████████| 47/47 [00:01<00:00, 35.40it/s, val_loss=0.06523484]\n"
     ]
    },
    {
     "name": "stdout",
     "output_type": "stream",
     "text": [
      "\n",
      "Epoch 13 Summary:\n",
      "Train Loss: 0.06118954\n",
      "Val Loss: 0.06039020\n"
     ]
    },
    {
     "name": "stderr",
     "output_type": "stream",
     "text": [
      "Epoch 14/150 [Train]: 100%|██████████| 375/375 [00:38<00:00,  9.63it/s, loss=0.06237030, min=-0.00000051, max=1.00000000, sparse%=99.61]\n",
      "Epoch 14/150 [Val]: 100%|██████████| 47/47 [00:01<00:00, 34.95it/s, val_loss=0.06095976]\n"
     ]
    },
    {
     "name": "stdout",
     "output_type": "stream",
     "text": [
      "\n",
      "Epoch 14 Summary:\n",
      "Train Loss: 0.05743600\n",
      "Val Loss: 0.05762970\n"
     ]
    },
    {
     "name": "stderr",
     "output_type": "stream",
     "text": [
      "Epoch 15/150 [Train]: 100%|██████████| 375/375 [00:39<00:00,  9.60it/s, loss=0.06252439, min=-0.00000050, max=1.00000000, sparse%=99.62]\n",
      "Epoch 15/150 [Val]: 100%|██████████| 47/47 [00:01<00:00, 34.94it/s, val_loss=0.05887645]\n"
     ]
    },
    {
     "name": "stdout",
     "output_type": "stream",
     "text": [
      "\n",
      "Epoch 15 Summary:\n",
      "Train Loss: 0.05410204\n",
      "Val Loss: 0.05481321\n"
     ]
    },
    {
     "name": "stderr",
     "output_type": "stream",
     "text": [
      "Epoch 16/150 [Train]: 100%|██████████| 375/375 [00:39<00:00,  9.60it/s, loss=0.05182422, min=-0.00000052, max=1.00000000, sparse%=99.60]\n",
      "Epoch 16/150 [Val]: 100%|██████████| 47/47 [00:01<00:00, 34.94it/s, val_loss=0.05589208]\n"
     ]
    },
    {
     "name": "stdout",
     "output_type": "stream",
     "text": [
      "\n",
      "Epoch 16 Summary:\n",
      "Train Loss: 0.05125361\n",
      "Val Loss: 0.05278262\n"
     ]
    },
    {
     "name": "stderr",
     "output_type": "stream",
     "text": [
      "Epoch 17/150 [Train]: 100%|██████████| 375/375 [00:39<00:00,  9.61it/s, loss=0.05722761, min=-0.00000050, max=1.00000000, sparse%=99.62]\n",
      "Epoch 17/150 [Val]: 100%|██████████| 47/47 [00:01<00:00, 35.17it/s, val_loss=0.05356602]\n"
     ]
    },
    {
     "name": "stdout",
     "output_type": "stream",
     "text": [
      "\n",
      "Epoch 17 Summary:\n",
      "Train Loss: 0.04886737\n",
      "Val Loss: 0.05111107\n"
     ]
    },
    {
     "name": "stderr",
     "output_type": "stream",
     "text": [
      "Epoch 18/150 [Train]: 100%|██████████| 375/375 [00:38<00:00,  9.62it/s, loss=0.04901504, min=-0.00000048, max=1.00000000, sparse%=99.61]\n",
      "Epoch 18/150 [Val]: 100%|██████████| 47/47 [00:01<00:00, 35.54it/s, val_loss=0.05252616]\n"
     ]
    },
    {
     "name": "stdout",
     "output_type": "stream",
     "text": [
      "\n",
      "Epoch 18 Summary:\n",
      "Train Loss: 0.04655875\n",
      "Val Loss: 0.04927877\n"
     ]
    },
    {
     "name": "stderr",
     "output_type": "stream",
     "text": [
      "Epoch 19/150 [Train]: 100%|██████████| 375/375 [00:38<00:00,  9.62it/s, loss=0.03928233, min=-0.00000047, max=1.00000000, sparse%=99.62]\n",
      "Epoch 19/150 [Val]: 100%|██████████| 47/47 [00:01<00:00, 35.26it/s, val_loss=0.05141827]\n"
     ]
    },
    {
     "name": "stdout",
     "output_type": "stream",
     "text": [
      "\n",
      "Epoch 19 Summary:\n",
      "Train Loss: 0.04460563\n",
      "Val Loss: 0.04850031\n"
     ]
    },
    {
     "name": "stderr",
     "output_type": "stream",
     "text": [
      "Epoch 20/150 [Train]: 100%|██████████| 375/375 [00:38<00:00,  9.63it/s, loss=0.04264044, min=-0.00000055, max=1.00000000, sparse%=99.61]\n",
      "Epoch 20/150 [Val]: 100%|██████████| 47/47 [00:01<00:00, 35.16it/s, val_loss=0.04886088]\n"
     ]
    },
    {
     "name": "stdout",
     "output_type": "stream",
     "text": [
      "\n",
      "Epoch 20 Summary:\n",
      "Train Loss: 0.04282942\n",
      "Val Loss: 0.04638779\n"
     ]
    },
    {
     "name": "stderr",
     "output_type": "stream",
     "text": [
      "Epoch 21/150 [Train]: 100%|██████████| 375/375 [00:38<00:00,  9.64it/s, loss=0.04828538, min=-0.00000050, max=1.00000000, sparse%=99.61]\n",
      "Epoch 21/150 [Val]: 100%|██████████| 47/47 [00:01<00:00, 34.82it/s, val_loss=0.04808573]\n"
     ]
    },
    {
     "name": "stdout",
     "output_type": "stream",
     "text": [
      "\n",
      "Epoch 21 Summary:\n",
      "Train Loss: 0.04121799\n",
      "Val Loss: 0.04550630\n"
     ]
    },
    {
     "name": "stderr",
     "output_type": "stream",
     "text": [
      "Epoch 22/150 [Train]: 100%|██████████| 375/375 [00:38<00:00,  9.65it/s, loss=0.04129188, min=-0.00000049, max=1.00000000, sparse%=99.62]\n",
      "Epoch 22/150 [Val]: 100%|██████████| 47/47 [00:01<00:00, 35.29it/s, val_loss=0.04672782]\n"
     ]
    },
    {
     "name": "stdout",
     "output_type": "stream",
     "text": [
      "\n",
      "Epoch 22 Summary:\n",
      "Train Loss: 0.03976268\n",
      "Val Loss: 0.04450192\n"
     ]
    },
    {
     "name": "stderr",
     "output_type": "stream",
     "text": [
      "Epoch 23/150 [Train]: 100%|██████████| 375/375 [00:38<00:00,  9.66it/s, loss=0.04106706, min=-0.00000052, max=1.00000000, sparse%=99.62]\n",
      "Epoch 23/150 [Val]: 100%|██████████| 47/47 [00:01<00:00, 35.39it/s, val_loss=0.04518741]\n"
     ]
    },
    {
     "name": "stdout",
     "output_type": "stream",
     "text": [
      "\n",
      "Epoch 23 Summary:\n",
      "Train Loss: 0.03829829\n",
      "Val Loss: 0.04334677\n"
     ]
    },
    {
     "name": "stderr",
     "output_type": "stream",
     "text": [
      "Epoch 24/150 [Train]: 100%|██████████| 375/375 [00:38<00:00,  9.66it/s, loss=0.03192686, min=-0.00000048, max=1.00000000, sparse%=99.64]\n",
      "Epoch 24/150 [Val]: 100%|██████████| 47/47 [00:01<00:00, 35.63it/s, val_loss=0.04356041]\n"
     ]
    },
    {
     "name": "stdout",
     "output_type": "stream",
     "text": [
      "\n",
      "Epoch 24 Summary:\n",
      "Train Loss: 0.03711747\n",
      "Val Loss: 0.04290865\n"
     ]
    },
    {
     "name": "stderr",
     "output_type": "stream",
     "text": [
      "Epoch 25/150 [Train]: 100%|██████████| 375/375 [00:38<00:00,  9.66it/s, loss=0.02999205, min=-0.00000051, max=1.00000000, sparse%=99.64]\n",
      "Epoch 25/150 [Val]: 100%|██████████| 47/47 [00:01<00:00, 35.33it/s, val_loss=0.04464377]\n"
     ]
    },
    {
     "name": "stdout",
     "output_type": "stream",
     "text": [
      "\n",
      "Epoch 25 Summary:\n",
      "Train Loss: 0.03600499\n",
      "Val Loss: 0.04177530\n"
     ]
    },
    {
     "name": "stderr",
     "output_type": "stream",
     "text": [
      "Epoch 26/150 [Train]: 100%|██████████| 375/375 [00:38<00:00,  9.67it/s, loss=0.03934817, min=-0.00000053, max=1.00000000, sparse%=99.62]\n",
      "Epoch 26/150 [Val]: 100%|██████████| 47/47 [00:01<00:00, 34.85it/s, val_loss=0.04252912]\n"
     ]
    },
    {
     "name": "stdout",
     "output_type": "stream",
     "text": [
      "\n",
      "Epoch 26 Summary:\n",
      "Train Loss: 0.03487759\n",
      "Val Loss: 0.04107079\n"
     ]
    },
    {
     "name": "stderr",
     "output_type": "stream",
     "text": [
      "Epoch 27/150 [Train]: 100%|██████████| 375/375 [00:38<00:00,  9.68it/s, loss=0.03093377, min=-0.00000052, max=1.00000000, sparse%=99.62]\n",
      "Epoch 27/150 [Val]: 100%|██████████| 47/47 [00:01<00:00, 35.23it/s, val_loss=0.04168663]\n"
     ]
    },
    {
     "name": "stdout",
     "output_type": "stream",
     "text": [
      "\n",
      "Epoch 27 Summary:\n",
      "Train Loss: 0.03386642\n",
      "Val Loss: 0.04023734\n"
     ]
    },
    {
     "name": "stderr",
     "output_type": "stream",
     "text": [
      "Epoch 28/150 [Train]: 100%|██████████| 375/375 [00:38<00:00,  9.68it/s, loss=0.04110804, min=-0.00000052, max=1.00000000, sparse%=99.60]\n",
      "Epoch 28/150 [Val]: 100%|██████████| 47/47 [00:01<00:00, 34.93it/s, val_loss=0.04116082]\n"
     ]
    },
    {
     "name": "stdout",
     "output_type": "stream",
     "text": [
      "\n",
      "Epoch 28 Summary:\n",
      "Train Loss: 0.03292040\n",
      "Val Loss: 0.03971376\n"
     ]
    },
    {
     "name": "stderr",
     "output_type": "stream",
     "text": [
      "Epoch 29/150 [Train]: 100%|██████████| 375/375 [00:38<00:00,  9.68it/s, loss=0.03290451, min=-0.00000051, max=1.00000000, sparse%=99.61]\n",
      "Epoch 29/150 [Val]: 100%|██████████| 47/47 [00:01<00:00, 34.79it/s, val_loss=0.04077308]\n"
     ]
    },
    {
     "name": "stdout",
     "output_type": "stream",
     "text": [
      "\n",
      "Epoch 29 Summary:\n",
      "Train Loss: 0.03206066\n",
      "Val Loss: 0.03919216\n"
     ]
    },
    {
     "name": "stderr",
     "output_type": "stream",
     "text": [
      "Epoch 30/150 [Train]: 100%|██████████| 375/375 [00:38<00:00,  9.69it/s, loss=0.03124891, min=-0.00000048, max=1.00000000, sparse%=99.63]\n",
      "Epoch 30/150 [Val]: 100%|██████████| 47/47 [00:01<00:00, 34.62it/s, val_loss=0.04087267]\n"
     ]
    },
    {
     "name": "stdout",
     "output_type": "stream",
     "text": [
      "\n",
      "Epoch 30 Summary:\n",
      "Train Loss: 0.03134121\n",
      "Val Loss: 0.03878652\n"
     ]
    },
    {
     "name": "stderr",
     "output_type": "stream",
     "text": [
      "Epoch 31/150 [Train]: 100%|██████████| 375/375 [00:38<00:00,  9.69it/s, loss=0.03739175, min=-0.00000050, max=1.00000000, sparse%=99.61]\n",
      "Epoch 31/150 [Val]: 100%|██████████| 47/47 [00:01<00:00, 34.87it/s, val_loss=0.03939593]\n"
     ]
    },
    {
     "name": "stdout",
     "output_type": "stream",
     "text": [
      "\n",
      "Epoch 31 Summary:\n",
      "Train Loss: 0.03059148\n",
      "Val Loss: 0.03825252\n"
     ]
    },
    {
     "name": "stderr",
     "output_type": "stream",
     "text": [
      "Epoch 32/150 [Train]: 100%|██████████| 375/375 [00:38<00:00,  9.68it/s, loss=0.02310632, min=-0.00000049, max=1.00000000, sparse%=99.61]\n",
      "Epoch 32/150 [Val]: 100%|██████████| 47/47 [00:01<00:00, 34.30it/s, val_loss=0.03903878]\n"
     ]
    },
    {
     "name": "stdout",
     "output_type": "stream",
     "text": [
      "\n",
      "Epoch 32 Summary:\n",
      "Train Loss: 0.02978024\n",
      "Val Loss: 0.03815742\n"
     ]
    },
    {
     "name": "stderr",
     "output_type": "stream",
     "text": [
      "Epoch 33/150 [Train]: 100%|██████████| 375/375 [00:38<00:00,  9.67it/s, loss=0.03014809, min=-0.00000052, max=1.00000000, sparse%=99.63]\n",
      "Epoch 33/150 [Val]: 100%|██████████| 47/47 [00:01<00:00, 34.93it/s, val_loss=0.03925620]\n"
     ]
    },
    {
     "name": "stdout",
     "output_type": "stream",
     "text": [
      "\n",
      "Epoch 33 Summary:\n",
      "Train Loss: 0.02906054\n",
      "Val Loss: 0.03760325\n"
     ]
    },
    {
     "name": "stderr",
     "output_type": "stream",
     "text": [
      "Epoch 34/150 [Train]: 100%|██████████| 375/375 [00:38<00:00,  9.67it/s, loss=0.03354309, min=-0.00000050, max=1.00000000, sparse%=99.62]\n",
      "Epoch 34/150 [Val]: 100%|██████████| 47/47 [00:01<00:00, 35.28it/s, val_loss=0.03968690]\n"
     ]
    },
    {
     "name": "stdout",
     "output_type": "stream",
     "text": [
      "\n",
      "Epoch 34 Summary:\n",
      "Train Loss: 0.02850082\n",
      "Val Loss: 0.03751635\n"
     ]
    },
    {
     "name": "stderr",
     "output_type": "stream",
     "text": [
      "Epoch 35/150 [Train]: 100%|██████████| 375/375 [00:38<00:00,  9.65it/s, loss=0.02691312, min=-0.00000046, max=1.00000000, sparse%=99.64]\n",
      "Epoch 35/150 [Val]: 100%|██████████| 47/47 [00:01<00:00, 35.53it/s, val_loss=0.03903649]\n"
     ]
    },
    {
     "name": "stdout",
     "output_type": "stream",
     "text": [
      "\n",
      "Epoch 35 Summary:\n",
      "Train Loss: 0.02780093\n",
      "Val Loss: 0.03709959\n"
     ]
    },
    {
     "name": "stderr",
     "output_type": "stream",
     "text": [
      "Epoch 36/150 [Train]: 100%|██████████| 375/375 [00:38<00:00,  9.69it/s, loss=0.03706435, min=-0.00000050, max=1.00000000, sparse%=99.60]\n",
      "Epoch 36/150 [Val]: 100%|██████████| 47/47 [00:01<00:00, 35.45it/s, val_loss=0.03815483]\n"
     ]
    },
    {
     "name": "stdout",
     "output_type": "stream",
     "text": [
      "\n",
      "Epoch 36 Summary:\n",
      "Train Loss: 0.02731230\n",
      "Val Loss: 0.03691895\n"
     ]
    },
    {
     "name": "stderr",
     "output_type": "stream",
     "text": [
      "Epoch 37/150 [Train]: 100%|██████████| 375/375 [00:38<00:00,  9.69it/s, loss=0.02588800, min=-0.00000051, max=1.00000000, sparse%=99.60]\n",
      "Epoch 37/150 [Val]: 100%|██████████| 47/47 [00:01<00:00, 35.63it/s, val_loss=0.03779418]\n"
     ]
    },
    {
     "name": "stdout",
     "output_type": "stream",
     "text": [
      "\n",
      "Epoch 37 Summary:\n",
      "Train Loss: 0.02676394\n",
      "Val Loss: 0.03636235\n"
     ]
    },
    {
     "name": "stderr",
     "output_type": "stream",
     "text": [
      "Epoch 38/150 [Train]: 100%|██████████| 375/375 [00:38<00:00,  9.69it/s, loss=0.02021595, min=-0.00000049, max=1.00000000, sparse%=99.63]\n",
      "Epoch 38/150 [Val]: 100%|██████████| 47/47 [00:01<00:00, 35.43it/s, val_loss=0.03747754]\n"
     ]
    },
    {
     "name": "stdout",
     "output_type": "stream",
     "text": [
      "\n",
      "Epoch 38 Summary:\n",
      "Train Loss: 0.02620525\n",
      "Val Loss: 0.03624207\n"
     ]
    },
    {
     "name": "stderr",
     "output_type": "stream",
     "text": [
      "Epoch 39/150 [Train]: 100%|██████████| 375/375 [00:38<00:00,  9.69it/s, loss=0.02937180, min=-0.00000050, max=1.00000000, sparse%=99.62]\n",
      "Epoch 39/150 [Val]: 100%|██████████| 47/47 [00:01<00:00, 35.22it/s, val_loss=0.03770348]\n"
     ]
    },
    {
     "name": "stdout",
     "output_type": "stream",
     "text": [
      "\n",
      "Epoch 39 Summary:\n",
      "Train Loss: 0.02557632\n",
      "Val Loss: 0.03584773\n"
     ]
    },
    {
     "name": "stderr",
     "output_type": "stream",
     "text": [
      "Epoch 40/150 [Train]: 100%|██████████| 375/375 [00:38<00:00,  9.69it/s, loss=0.02254690, min=-0.00000051, max=1.00000000, sparse%=99.64]\n",
      "Epoch 40/150 [Val]: 100%|██████████| 47/47 [00:01<00:00, 35.26it/s, val_loss=0.03743714]\n"
     ]
    },
    {
     "name": "stdout",
     "output_type": "stream",
     "text": [
      "\n",
      "Epoch 40 Summary:\n",
      "Train Loss: 0.02513395\n",
      "Val Loss: 0.03575595\n"
     ]
    },
    {
     "name": "stderr",
     "output_type": "stream",
     "text": [
      "Epoch 41/150 [Train]: 100%|██████████| 375/375 [00:38<00:00,  9.69it/s, loss=0.03187415, min=-0.00000050, max=1.00000000, sparse%=99.61]\n",
      "Epoch 41/150 [Val]: 100%|██████████| 47/47 [00:01<00:00, 34.34it/s, val_loss=0.03692272]\n"
     ]
    },
    {
     "name": "stdout",
     "output_type": "stream",
     "text": [
      "\n",
      "Epoch 41 Summary:\n",
      "Train Loss: 0.02465419\n",
      "Val Loss: 0.03539253\n"
     ]
    },
    {
     "name": "stderr",
     "output_type": "stream",
     "text": [
      "Epoch 42/150 [Train]: 100%|██████████| 375/375 [00:38<00:00,  9.68it/s, loss=0.02451607, min=-0.00000048, max=1.00000000, sparse%=99.61]\n",
      "Epoch 42/150 [Val]: 100%|██████████| 47/47 [00:01<00:00, 35.06it/s, val_loss=0.03731042]\n"
     ]
    },
    {
     "name": "stdout",
     "output_type": "stream",
     "text": [
      "\n",
      "Epoch 42 Summary:\n",
      "Train Loss: 0.02419245\n",
      "Val Loss: 0.03559136\n"
     ]
    },
    {
     "name": "stderr",
     "output_type": "stream",
     "text": [
      "Epoch 43/150 [Train]: 100%|██████████| 375/375 [00:38<00:00,  9.64it/s, loss=0.02173408, min=-0.00000051, max=1.00000000, sparse%=99.62]\n",
      "Epoch 43/150 [Val]: 100%|██████████| 47/47 [00:01<00:00, 35.40it/s, val_loss=0.03660141]\n"
     ]
    },
    {
     "name": "stdout",
     "output_type": "stream",
     "text": [
      "\n",
      "Epoch 43 Summary:\n",
      "Train Loss: 0.02384529\n",
      "Val Loss: 0.03504924\n"
     ]
    },
    {
     "name": "stderr",
     "output_type": "stream",
     "text": [
      "Epoch 44/150 [Train]: 100%|██████████| 375/375 [00:38<00:00,  9.69it/s, loss=0.02417262, min=-0.00000048, max=1.00000000, sparse%=99.60]\n",
      "Epoch 44/150 [Val]: 100%|██████████| 47/47 [00:01<00:00, 34.98it/s, val_loss=0.03637588]\n"
     ]
    },
    {
     "name": "stdout",
     "output_type": "stream",
     "text": [
      "\n",
      "Epoch 44 Summary:\n",
      "Train Loss: 0.02338019\n",
      "Val Loss: 0.03540031\n"
     ]
    },
    {
     "name": "stderr",
     "output_type": "stream",
     "text": [
      "Epoch 45/150 [Train]: 100%|██████████| 375/375 [00:38<00:00,  9.62it/s, loss=0.02282826, min=-0.00000058, max=1.00000000, sparse%=99.63]\n",
      "Epoch 45/150 [Val]: 100%|██████████| 47/47 [00:01<00:00, 34.65it/s, val_loss=0.03693343]\n"
     ]
    },
    {
     "name": "stdout",
     "output_type": "stream",
     "text": [
      "\n",
      "Epoch 45 Summary:\n",
      "Train Loss: 0.02298526\n",
      "Val Loss: 0.03538771\n"
     ]
    },
    {
     "name": "stderr",
     "output_type": "stream",
     "text": [
      "Epoch 46/150 [Train]: 100%|██████████| 375/375 [00:38<00:00,  9.65it/s, loss=0.02017507, min=-0.00000049, max=1.00000000, sparse%=99.61]\n",
      "Epoch 46/150 [Val]: 100%|██████████| 47/47 [00:01<00:00, 35.54it/s, val_loss=0.03782028]\n"
     ]
    },
    {
     "name": "stdout",
     "output_type": "stream",
     "text": [
      "\n",
      "Epoch 46 Summary:\n",
      "Train Loss: 0.02264606\n",
      "Val Loss: 0.03607116\n"
     ]
    },
    {
     "name": "stderr",
     "output_type": "stream",
     "text": [
      "Epoch 47/150 [Train]: 100%|██████████| 375/375 [00:38<00:00,  9.70it/s, loss=0.01877662, min=-0.00000053, max=1.00000000, sparse%=99.62]\n",
      "Epoch 47/150 [Val]: 100%|██████████| 47/47 [00:01<00:00, 35.43it/s, val_loss=0.03642372]\n"
     ]
    },
    {
     "name": "stdout",
     "output_type": "stream",
     "text": [
      "\n",
      "Epoch 47 Summary:\n",
      "Train Loss: 0.02230578\n",
      "Val Loss: 0.03486522\n"
     ]
    },
    {
     "name": "stderr",
     "output_type": "stream",
     "text": [
      "Epoch 48/150 [Train]: 100%|██████████| 375/375 [00:38<00:00,  9.68it/s, loss=0.01987650, min=-0.00000049, max=1.00000000, sparse%=99.63]\n",
      "Epoch 48/150 [Val]: 100%|██████████| 47/47 [00:01<00:00, 35.14it/s, val_loss=0.03639462]\n"
     ]
    },
    {
     "name": "stdout",
     "output_type": "stream",
     "text": [
      "\n",
      "Epoch 48 Summary:\n",
      "Train Loss: 0.02194162\n",
      "Val Loss: 0.03453289\n"
     ]
    },
    {
     "name": "stderr",
     "output_type": "stream",
     "text": [
      "Epoch 49/150 [Train]: 100%|██████████| 375/375 [00:38<00:00,  9.63it/s, loss=0.02074436, min=-0.00000055, max=1.00000000, sparse%=99.61]\n",
      "Epoch 49/150 [Val]: 100%|██████████| 47/47 [00:01<00:00, 34.56it/s, val_loss=0.03545992]\n"
     ]
    },
    {
     "name": "stdout",
     "output_type": "stream",
     "text": [
      "\n",
      "Epoch 49 Summary:\n",
      "Train Loss: 0.02163221\n",
      "Val Loss: 0.03426645\n"
     ]
    },
    {
     "name": "stderr",
     "output_type": "stream",
     "text": [
      "Epoch 50/150 [Train]: 100%|██████████| 375/375 [00:38<00:00,  9.68it/s, loss=0.02197940, min=-0.00000050, max=1.00000000, sparse%=99.63]\n",
      "Epoch 50/150 [Val]: 100%|██████████| 47/47 [00:01<00:00, 34.22it/s, val_loss=0.03646004]\n"
     ]
    },
    {
     "name": "stdout",
     "output_type": "stream",
     "text": [
      "\n",
      "Epoch 50 Summary:\n",
      "Train Loss: 0.02134124\n",
      "Val Loss: 0.03496822\n"
     ]
    },
    {
     "name": "stderr",
     "output_type": "stream",
     "text": [
      "Epoch 51/150 [Train]: 100%|██████████| 375/375 [00:38<00:00,  9.63it/s, loss=0.01806050, min=-0.00000049, max=1.00000000, sparse%=99.62]\n",
      "Epoch 51/150 [Val]: 100%|██████████| 47/47 [00:01<00:00, 35.10it/s, val_loss=0.03576028]\n"
     ]
    },
    {
     "name": "stdout",
     "output_type": "stream",
     "text": [
      "\n",
      "Epoch 51 Summary:\n",
      "Train Loss: 0.02092864\n",
      "Val Loss: 0.03409224\n"
     ]
    },
    {
     "name": "stderr",
     "output_type": "stream",
     "text": [
      "Epoch 52/150 [Train]: 100%|██████████| 375/375 [00:38<00:00,  9.63it/s, loss=0.02009924, min=-0.00000050, max=1.00000000, sparse%=99.60]\n",
      "Epoch 52/150 [Val]: 100%|██████████| 47/47 [00:01<00:00, 34.34it/s, val_loss=0.03577479]\n"
     ]
    },
    {
     "name": "stdout",
     "output_type": "stream",
     "text": [
      "\n",
      "Epoch 52 Summary:\n",
      "Train Loss: 0.02064556\n",
      "Val Loss: 0.03396065\n"
     ]
    },
    {
     "name": "stderr",
     "output_type": "stream",
     "text": [
      "Epoch 53/150 [Train]: 100%|██████████| 375/375 [00:38<00:00,  9.65it/s, loss=0.02393496, min=-0.00000053, max=1.00000000, sparse%=99.63]\n",
      "Epoch 53/150 [Val]: 100%|██████████| 47/47 [00:01<00:00, 34.47it/s, val_loss=0.03559604]\n"
     ]
    },
    {
     "name": "stdout",
     "output_type": "stream",
     "text": [
      "\n",
      "Epoch 53 Summary:\n",
      "Train Loss: 0.02036620\n",
      "Val Loss: 0.03389059\n"
     ]
    },
    {
     "name": "stderr",
     "output_type": "stream",
     "text": [
      "Epoch 54/150 [Train]: 100%|██████████| 375/375 [00:38<00:00,  9.65it/s, loss=0.02103306, min=-0.00000050, max=1.00000000, sparse%=99.62]\n",
      "Epoch 54/150 [Val]: 100%|██████████| 47/47 [00:01<00:00, 35.26it/s, val_loss=0.03522660]\n"
     ]
    },
    {
     "name": "stdout",
     "output_type": "stream",
     "text": [
      "\n",
      "Epoch 54 Summary:\n",
      "Train Loss: 0.02009594\n",
      "Val Loss: 0.03385688\n"
     ]
    },
    {
     "name": "stderr",
     "output_type": "stream",
     "text": [
      "Epoch 55/150 [Train]: 100%|██████████| 375/375 [00:38<00:00,  9.69it/s, loss=0.01997200, min=-0.00000052, max=1.00000000, sparse%=99.62]\n",
      "Epoch 55/150 [Val]: 100%|██████████| 47/47 [00:01<00:00, 35.19it/s, val_loss=0.03542035]\n"
     ]
    },
    {
     "name": "stdout",
     "output_type": "stream",
     "text": [
      "\n",
      "Epoch 55 Summary:\n",
      "Train Loss: 0.01983240\n",
      "Val Loss: 0.03364566\n"
     ]
    },
    {
     "name": "stderr",
     "output_type": "stream",
     "text": [
      "Epoch 56/150 [Train]: 100%|██████████| 375/375 [00:38<00:00,  9.68it/s, loss=0.02178667, min=-0.00000052, max=1.00000000, sparse%=99.62]\n",
      "Epoch 56/150 [Val]: 100%|██████████| 47/47 [00:01<00:00, 35.14it/s, val_loss=0.03620453]\n"
     ]
    },
    {
     "name": "stdout",
     "output_type": "stream",
     "text": [
      "\n",
      "Epoch 56 Summary:\n",
      "Train Loss: 0.01956577\n",
      "Val Loss: 0.03448186\n"
     ]
    },
    {
     "name": "stderr",
     "output_type": "stream",
     "text": [
      "Epoch 57/150 [Train]: 100%|██████████| 375/375 [00:38<00:00,  9.70it/s, loss=0.01788533, min=-0.00000051, max=1.00000000, sparse%=99.61]\n",
      "Epoch 57/150 [Val]: 100%|██████████| 47/47 [00:01<00:00, 35.13it/s, val_loss=0.03488921]\n"
     ]
    },
    {
     "name": "stdout",
     "output_type": "stream",
     "text": [
      "\n",
      "Epoch 57 Summary:\n",
      "Train Loss: 0.01930957\n",
      "Val Loss: 0.03346387\n"
     ]
    },
    {
     "name": "stderr",
     "output_type": "stream",
     "text": [
      "Epoch 58/150 [Train]: 100%|██████████| 375/375 [00:38<00:00,  9.66it/s, loss=0.01666807, min=-0.00000053, max=1.00000000, sparse%=99.62]\n",
      "Epoch 58/150 [Val]: 100%|██████████| 47/47 [00:01<00:00, 34.55it/s, val_loss=0.03426620]\n"
     ]
    },
    {
     "name": "stdout",
     "output_type": "stream",
     "text": [
      "\n",
      "Epoch 58 Summary:\n",
      "Train Loss: 0.01911218\n",
      "Val Loss: 0.03338479\n"
     ]
    },
    {
     "name": "stderr",
     "output_type": "stream",
     "text": [
      "Epoch 59/150 [Train]: 100%|██████████| 375/375 [00:39<00:00,  9.59it/s, loss=0.01875744, min=-0.00000054, max=1.00000000, sparse%=99.62]\n",
      "Epoch 59/150 [Val]: 100%|██████████| 47/47 [00:01<00:00, 34.64it/s, val_loss=0.03470245]\n"
     ]
    },
    {
     "name": "stdout",
     "output_type": "stream",
     "text": [
      "\n",
      "Epoch 59 Summary:\n",
      "Train Loss: 0.01887473\n",
      "Val Loss: 0.03345571\n"
     ]
    },
    {
     "name": "stderr",
     "output_type": "stream",
     "text": [
      "Epoch 60/150 [Train]: 100%|██████████| 375/375 [00:39<00:00,  9.59it/s, loss=0.01983394, min=-0.00000048, max=1.00000000, sparse%=99.63]\n",
      "Epoch 60/150 [Val]: 100%|██████████| 47/47 [00:01<00:00, 34.99it/s, val_loss=0.03452836]\n"
     ]
    },
    {
     "name": "stdout",
     "output_type": "stream",
     "text": [
      "\n",
      "Epoch 60 Summary:\n",
      "Train Loss: 0.01862600\n",
      "Val Loss: 0.03326682\n"
     ]
    },
    {
     "name": "stderr",
     "output_type": "stream",
     "text": [
      "Epoch 61/150 [Train]: 100%|██████████| 375/375 [00:38<00:00,  9.62it/s, loss=0.01907692, min=-0.00000053, max=1.00000000, sparse%=99.62]\n",
      "Epoch 61/150 [Val]: 100%|██████████| 47/47 [00:01<00:00, 35.31it/s, val_loss=0.03451937]\n"
     ]
    },
    {
     "name": "stdout",
     "output_type": "stream",
     "text": [
      "\n",
      "Epoch 61 Summary:\n",
      "Train Loss: 0.01838023\n",
      "Val Loss: 0.03344527\n"
     ]
    },
    {
     "name": "stderr",
     "output_type": "stream",
     "text": [
      "Epoch 62/150 [Train]: 100%|██████████| 375/375 [00:38<00:00,  9.62it/s, loss=0.01613611, min=-0.00000049, max=1.00000000, sparse%=99.62]\n",
      "Epoch 62/150 [Val]: 100%|██████████| 47/47 [00:01<00:00, 34.17it/s, val_loss=0.03442079]\n"
     ]
    },
    {
     "name": "stdout",
     "output_type": "stream",
     "text": [
      "\n",
      "Epoch 62 Summary:\n",
      "Train Loss: 0.01816357\n",
      "Val Loss: 0.03302666\n"
     ]
    },
    {
     "name": "stderr",
     "output_type": "stream",
     "text": [
      "Epoch 63/150 [Train]: 100%|██████████| 375/375 [00:38<00:00,  9.65it/s, loss=0.02057027, min=-0.00000052, max=1.00000000, sparse%=99.60]\n",
      "Epoch 63/150 [Val]: 100%|██████████| 47/47 [00:01<00:00, 34.97it/s, val_loss=0.03451813]\n"
     ]
    },
    {
     "name": "stdout",
     "output_type": "stream",
     "text": [
      "\n",
      "Epoch 63 Summary:\n",
      "Train Loss: 0.01796170\n",
      "Val Loss: 0.03308519\n"
     ]
    },
    {
     "name": "stderr",
     "output_type": "stream",
     "text": [
      "Epoch 64/150 [Train]: 100%|██████████| 375/375 [00:39<00:00,  9.60it/s, loss=0.01495111, min=-0.00000050, max=1.00000000, sparse%=99.60]\n",
      "Epoch 64/150 [Val]: 100%|██████████| 47/47 [00:01<00:00, 34.41it/s, val_loss=0.03422556]\n"
     ]
    },
    {
     "name": "stdout",
     "output_type": "stream",
     "text": [
      "\n",
      "Epoch 64 Summary:\n",
      "Train Loss: 0.01781805\n",
      "Val Loss: 0.03302595\n"
     ]
    },
    {
     "name": "stderr",
     "output_type": "stream",
     "text": [
      "Epoch 65/150 [Train]: 100%|██████████| 375/375 [00:39<00:00,  9.58it/s, loss=0.01466799, min=-0.00000049, max=1.00000000, sparse%=99.64]\n",
      "Epoch 65/150 [Val]: 100%|██████████| 47/47 [00:01<00:00, 33.34it/s, val_loss=0.03362014]\n"
     ]
    },
    {
     "name": "stdout",
     "output_type": "stream",
     "text": [
      "\n",
      "Epoch 65 Summary:\n",
      "Train Loss: 0.01760447\n",
      "Val Loss: 0.03294341\n"
     ]
    },
    {
     "name": "stderr",
     "output_type": "stream",
     "text": [
      "Epoch 66/150 [Train]: 100%|██████████| 375/375 [00:38<00:00,  9.67it/s, loss=0.01813403, min=-0.00000050, max=1.00000000, sparse%=99.54]\n",
      "Epoch 66/150 [Val]: 100%|██████████| 47/47 [00:01<00:00, 35.30it/s, val_loss=0.03383686]\n"
     ]
    },
    {
     "name": "stdout",
     "output_type": "stream",
     "text": [
      "\n",
      "Epoch 66 Summary:\n",
      "Train Loss: 0.01737150\n",
      "Val Loss: 0.03268557\n"
     ]
    },
    {
     "name": "stderr",
     "output_type": "stream",
     "text": [
      "Epoch 67/150 [Train]: 100%|██████████| 375/375 [00:39<00:00,  9.59it/s, loss=0.01827767, min=-0.00000055, max=1.00000000, sparse%=99.62]\n",
      "Epoch 67/150 [Val]: 100%|██████████| 47/47 [00:01<00:00, 34.83it/s, val_loss=0.03368543]\n"
     ]
    },
    {
     "name": "stdout",
     "output_type": "stream",
     "text": [
      "\n",
      "Epoch 67 Summary:\n",
      "Train Loss: 0.01720639\n",
      "Val Loss: 0.03305745\n"
     ]
    },
    {
     "name": "stderr",
     "output_type": "stream",
     "text": [
      "Epoch 68/150 [Train]: 100%|██████████| 375/375 [00:39<00:00,  9.60it/s, loss=0.01697959, min=-0.00000051, max=1.00000000, sparse%=99.62]\n",
      "Epoch 68/150 [Val]: 100%|██████████| 47/47 [00:01<00:00, 33.61it/s, val_loss=0.03333832]\n"
     ]
    },
    {
     "name": "stdout",
     "output_type": "stream",
     "text": [
      "\n",
      "Epoch 68 Summary:\n",
      "Train Loss: 0.01701675\n",
      "Val Loss: 0.03272773\n"
     ]
    },
    {
     "name": "stderr",
     "output_type": "stream",
     "text": [
      "Epoch 69/150 [Train]: 100%|██████████| 375/375 [00:39<00:00,  9.61it/s, loss=0.01491244, min=-0.00000052, max=1.00000000, sparse%=99.62]\n",
      "Epoch 69/150 [Val]: 100%|██████████| 47/47 [00:01<00:00, 34.70it/s, val_loss=0.03405901]\n"
     ]
    },
    {
     "name": "stdout",
     "output_type": "stream",
     "text": [
      "\n",
      "Epoch 69 Summary:\n",
      "Train Loss: 0.01682000\n",
      "Val Loss: 0.03306210\n"
     ]
    },
    {
     "name": "stderr",
     "output_type": "stream",
     "text": [
      "Epoch 70/150 [Train]: 100%|██████████| 375/375 [00:38<00:00,  9.69it/s, loss=0.01934580, min=-0.00000054, max=1.00000000, sparse%=99.63]\n",
      "Epoch 70/150 [Val]: 100%|██████████| 47/47 [00:01<00:00, 35.20it/s, val_loss=0.03348397]\n"
     ]
    },
    {
     "name": "stdout",
     "output_type": "stream",
     "text": [
      "\n",
      "Epoch 70 Summary:\n",
      "Train Loss: 0.01666390\n",
      "Val Loss: 0.03272189\n"
     ]
    },
    {
     "name": "stderr",
     "output_type": "stream",
     "text": [
      "Epoch 71/150 [Train]: 100%|██████████| 375/375 [00:38<00:00,  9.69it/s, loss=0.01543632, min=-0.00000051, max=1.00000000, sparse%=99.62]\n",
      "Epoch 71/150 [Val]: 100%|██████████| 47/47 [00:01<00:00, 34.73it/s, val_loss=0.03343520]\n"
     ]
    },
    {
     "name": "stdout",
     "output_type": "stream",
     "text": [
      "\n",
      "Epoch 71 Summary:\n",
      "Train Loss: 0.01648972\n",
      "Val Loss: 0.03249094\n"
     ]
    },
    {
     "name": "stderr",
     "output_type": "stream",
     "text": [
      "Epoch 72/150 [Train]: 100%|██████████| 375/375 [00:39<00:00,  9.60it/s, loss=0.01631761, min=-0.00000050, max=1.00000000, sparse%=99.62]\n",
      "Epoch 72/150 [Val]: 100%|██████████| 47/47 [00:01<00:00, 34.11it/s, val_loss=0.03378861]\n"
     ]
    },
    {
     "name": "stdout",
     "output_type": "stream",
     "text": [
      "\n",
      "Epoch 72 Summary:\n",
      "Train Loss: 0.01637437\n",
      "Val Loss: 0.03266241\n"
     ]
    },
    {
     "name": "stderr",
     "output_type": "stream",
     "text": [
      "Epoch 73/150 [Train]: 100%|██████████| 375/375 [00:39<00:00,  9.60it/s, loss=0.01827230, min=-0.00000051, max=1.00000000, sparse%=99.62]\n",
      "Epoch 73/150 [Val]: 100%|██████████| 47/47 [00:01<00:00, 35.29it/s, val_loss=0.03331606]\n"
     ]
    },
    {
     "name": "stdout",
     "output_type": "stream",
     "text": [
      "\n",
      "Epoch 73 Summary:\n",
      "Train Loss: 0.01620579\n",
      "Val Loss: 0.03251125\n"
     ]
    },
    {
     "name": "stderr",
     "output_type": "stream",
     "text": [
      "Epoch 74/150 [Train]: 100%|██████████| 375/375 [00:38<00:00,  9.64it/s, loss=0.01800584, min=-0.00000054, max=1.00000000, sparse%=99.63]\n",
      "Epoch 74/150 [Val]: 100%|██████████| 47/47 [00:01<00:00, 34.59it/s, val_loss=0.03369008]\n"
     ]
    },
    {
     "name": "stdout",
     "output_type": "stream",
     "text": [
      "\n",
      "Epoch 74 Summary:\n",
      "Train Loss: 0.01605055\n",
      "Val Loss: 0.03247201\n"
     ]
    },
    {
     "name": "stderr",
     "output_type": "stream",
     "text": [
      "Epoch 75/150 [Train]: 100%|██████████| 375/375 [00:39<00:00,  9.60it/s, loss=0.01956852, min=-0.00000052, max=1.00000000, sparse%=99.61]\n",
      "Epoch 75/150 [Val]: 100%|██████████| 47/47 [00:01<00:00, 34.55it/s, val_loss=0.03326042]\n"
     ]
    },
    {
     "name": "stdout",
     "output_type": "stream",
     "text": [
      "\n",
      "Epoch 75 Summary:\n",
      "Train Loss: 0.01587185\n",
      "Val Loss: 0.03238499\n"
     ]
    },
    {
     "name": "stderr",
     "output_type": "stream",
     "text": [
      "Epoch 76/150 [Train]: 100%|██████████| 375/375 [00:39<00:00,  9.59it/s, loss=0.01354192, min=-0.00000051, max=1.00000000, sparse%=99.64]\n",
      "Epoch 76/150 [Val]: 100%|██████████| 47/47 [00:01<00:00, 34.19it/s, val_loss=0.03332751]\n"
     ]
    },
    {
     "name": "stdout",
     "output_type": "stream",
     "text": [
      "\n",
      "Epoch 76 Summary:\n",
      "Train Loss: 0.01573042\n",
      "Val Loss: 0.03238351\n"
     ]
    },
    {
     "name": "stderr",
     "output_type": "stream",
     "text": [
      "Epoch 77/150 [Train]: 100%|██████████| 375/375 [00:39<00:00,  9.59it/s, loss=0.01490947, min=-0.00000050, max=1.00000000, sparse%=99.63]\n",
      "Epoch 77/150 [Val]: 100%|██████████| 47/47 [00:01<00:00, 34.77it/s, val_loss=0.03350912]\n"
     ]
    },
    {
     "name": "stdout",
     "output_type": "stream",
     "text": [
      "\n",
      "Epoch 77 Summary:\n",
      "Train Loss: 0.01559971\n",
      "Val Loss: 0.03248968\n"
     ]
    },
    {
     "name": "stderr",
     "output_type": "stream",
     "text": [
      "Epoch 78/150 [Train]: 100%|██████████| 375/375 [00:38<00:00,  9.64it/s, loss=0.01440636, min=-0.00000051, max=1.00000000, sparse%=99.64]\n",
      "Epoch 78/150 [Val]: 100%|██████████| 47/47 [00:01<00:00, 34.77it/s, val_loss=0.03343897]\n"
     ]
    },
    {
     "name": "stdout",
     "output_type": "stream",
     "text": [
      "\n",
      "Epoch 78 Summary:\n",
      "Train Loss: 0.01546748\n",
      "Val Loss: 0.03246535\n"
     ]
    },
    {
     "name": "stderr",
     "output_type": "stream",
     "text": [
      "Epoch 79/150 [Train]: 100%|██████████| 375/375 [00:39<00:00,  9.60it/s, loss=0.01537698, min=-0.00000051, max=1.00000000, sparse%=99.59]\n",
      "Epoch 79/150 [Val]: 100%|██████████| 47/47 [00:01<00:00, 34.54it/s, val_loss=0.03316591]\n"
     ]
    },
    {
     "name": "stdout",
     "output_type": "stream",
     "text": [
      "\n",
      "Epoch 79 Summary:\n",
      "Train Loss: 0.01530903\n",
      "Val Loss: 0.03230834\n"
     ]
    },
    {
     "name": "stderr",
     "output_type": "stream",
     "text": [
      "Epoch 80/150 [Train]: 100%|██████████| 375/375 [00:39<00:00,  9.58it/s, loss=0.01543611, min=-0.00000049, max=1.00000000, sparse%=99.61]\n",
      "Epoch 80/150 [Val]: 100%|██████████| 47/47 [00:01<00:00, 34.42it/s, val_loss=0.03383529]\n"
     ]
    },
    {
     "name": "stdout",
     "output_type": "stream",
     "text": [
      "\n",
      "Epoch 80 Summary:\n",
      "Train Loss: 0.01520575\n",
      "Val Loss: 0.03251616\n"
     ]
    },
    {
     "name": "stderr",
     "output_type": "stream",
     "text": [
      "Epoch 81/150 [Train]: 100%|██████████| 375/375 [00:38<00:00,  9.65it/s, loss=0.01356860, min=-0.00000051, max=1.00000000, sparse%=99.62]\n",
      "Epoch 81/150 [Val]: 100%|██████████| 47/47 [00:01<00:00, 35.69it/s, val_loss=0.03318810]\n"
     ]
    },
    {
     "name": "stdout",
     "output_type": "stream",
     "text": [
      "\n",
      "Epoch 81 Summary:\n",
      "Train Loss: 0.01505379\n",
      "Val Loss: 0.03229573\n"
     ]
    },
    {
     "name": "stderr",
     "output_type": "stream",
     "text": [
      "Epoch 82/150 [Train]: 100%|██████████| 375/375 [00:38<00:00,  9.66it/s, loss=0.01425921, min=-0.00000051, max=1.00000000, sparse%=99.64]\n",
      "Epoch 82/150 [Val]: 100%|██████████| 47/47 [00:01<00:00, 35.05it/s, val_loss=0.03350054]\n"
     ]
    },
    {
     "name": "stdout",
     "output_type": "stream",
     "text": [
      "\n",
      "Epoch 82 Summary:\n",
      "Train Loss: 0.01496817\n",
      "Val Loss: 0.03233963\n"
     ]
    },
    {
     "name": "stderr",
     "output_type": "stream",
     "text": [
      "Epoch 83/150 [Train]: 100%|██████████| 375/375 [00:39<00:00,  9.60it/s, loss=0.01484202, min=-0.00000051, max=1.00000000, sparse%=99.61]\n",
      "Epoch 83/150 [Val]: 100%|██████████| 47/47 [00:01<00:00, 34.98it/s, val_loss=0.03358183]\n"
     ]
    },
    {
     "name": "stdout",
     "output_type": "stream",
     "text": [
      "\n",
      "Epoch 83 Summary:\n",
      "Train Loss: 0.01484324\n",
      "Val Loss: 0.03237628\n"
     ]
    },
    {
     "name": "stderr",
     "output_type": "stream",
     "text": [
      "Epoch 84/150 [Train]: 100%|██████████| 375/375 [00:39<00:00,  9.60it/s, loss=0.01631291, min=-0.00000055, max=1.00000000, sparse%=99.62]\n",
      "Epoch 84/150 [Val]: 100%|██████████| 47/47 [00:01<00:00, 33.58it/s, val_loss=0.03323244]\n"
     ]
    },
    {
     "name": "stdout",
     "output_type": "stream",
     "text": [
      "\n",
      "Epoch 84 Summary:\n",
      "Train Loss: 0.01469774\n",
      "Val Loss: 0.03233521\n"
     ]
    },
    {
     "name": "stderr",
     "output_type": "stream",
     "text": [
      "Epoch 85/150 [Train]: 100%|██████████| 375/375 [00:39<00:00,  9.60it/s, loss=0.01817582, min=-0.00000051, max=1.00000000, sparse%=99.60]\n",
      "Epoch 85/150 [Val]: 100%|██████████| 47/47 [00:01<00:00, 34.82it/s, val_loss=0.03350896]\n"
     ]
    },
    {
     "name": "stdout",
     "output_type": "stream",
     "text": [
      "\n",
      "Epoch 85 Summary:\n",
      "Train Loss: 0.01459300\n",
      "Val Loss: 0.03231466\n"
     ]
    },
    {
     "name": "stderr",
     "output_type": "stream",
     "text": [
      "Epoch 86/150 [Train]: 100%|██████████| 375/375 [00:38<00:00,  9.65it/s, loss=0.01441830, min=-0.00000048, max=1.00000000, sparse%=99.63]\n",
      "Epoch 86/150 [Val]: 100%|██████████| 47/47 [00:01<00:00, 35.32it/s, val_loss=0.03368169]\n"
     ]
    },
    {
     "name": "stdout",
     "output_type": "stream",
     "text": [
      "\n",
      "Epoch 86 Summary:\n",
      "Train Loss: 0.01448176\n",
      "Val Loss: 0.03250176\n",
      "Early stopping triggered at epoch 86\n",
      "Training complete!\n"
     ]
    }
   ],
   "source": [
    "def main():\n",
    "    global device, model\n",
    "    \n",
    "    # Initialize\n",
    "    device = torch.device(\"cuda\" if torch.cuda.is_available() else \"cpu\")\n",
    "    print(f\"Using device: {device}\")\n",
    "    \n",
    "    # Load data\n",
    "    X_jets = load_data()\n",
    "    \n",
    "    # Create datasets\n",
    "    train_size = int(0.8 * len(X_jets))\n",
    "    val_size = int(0.1 * len(X_jets))\n",
    "    test_size = len(X_jets) - train_size - val_size\n",
    "    \n",
    "    train_data, val_data, test_data = torch.utils.data.random_split(\n",
    "        X_jets, [train_size, val_size, test_size])\n",
    "    \n",
    "    # Create dataloaders\n",
    "    train_loader = DataLoader(train_data, batch_size=config['batch_size'], \n",
    "                            shuffle=True, num_workers=config['num_workers'],\n",
    "                            pin_memory=config['pin_memory'],\n",
    "                            persistent_workers=config['persistent_workers'])\n",
    "    \n",
    "    val_loader = DataLoader(val_data, batch_size=config['batch_size'],\n",
    "                          num_workers=config['num_workers'],\n",
    "                          pin_memory=config['pin_memory'],\n",
    "                          persistent_workers=config['persistent_workers'])\n",
    "    \n",
    "    test_loader = DataLoader(test_data, batch_size=config['batch_size'],\n",
    "                           num_workers=config['num_workers'],\n",
    "                           pin_memory=config['pin_memory'])\n",
    "    \n",
    "    # Initialize model\n",
    "    model = JetAutoencoder().to(device)\n",
    "    criterion = WeightedMSE()\n",
    "    optimizer = optim.Adam(model.parameters(), lr=config['initial_lr'])\n",
    "    scheduler = ReduceLROnPlateau(optimizer, 'min', \n",
    "                                patience=config['patience'],\n",
    "                                min_lr=config['min_lr'],\n",
    "                                verbose=True)\n",
    "    writer = SummaryWriter()\n",
    "    \n",
    "    # Training\n",
    "    best_loss = float('inf')\n",
    "    early_stop_counter = 0\n",
    "    \n",
    "    for epoch in range(config['num_epochs']):\n",
    "        model.train()\n",
    "        train_loss = 0\n",
    "        train_pbar = tqdm(train_loader, \n",
    "                         desc=f'Epoch {epoch+1}/{config[\"num_epochs\"]} [Train]')\n",
    "        \n",
    "        for batch in train_pbar:\n",
    "            batch = batch.to(device, non_blocking=True)\n",
    "            optimizer.zero_grad(set_to_none=True)\n",
    "            outputs = model(batch)\n",
    "            loss = criterion(outputs, batch)\n",
    "            loss.backward()\n",
    "            optimizer.step()\n",
    "            \n",
    "            train_loss += loss.item()\n",
    "            train_pbar.set_postfix({\n",
    "                'loss': format(loss.item(), f\".{config['precision_decimals']}f\"),\n",
    "                'min': format(batch.min().item(), f\".{config['precision_decimals']}f\"),\n",
    "                'max': format(batch.max().item(), f\".{config['precision_decimals']}f\"),\n",
    "                'sparse%': f\"{(batch < config['sparse_threshold']).float().mean().item() * 100:.2f}\"\n",
    "            })\n",
    "        \n",
    "        train_loss /= len(train_loader)\n",
    "        \n",
    "        # Validation\n",
    "        model.eval()\n",
    "        val_loss = 0\n",
    "        val_pbar = tqdm(val_loader,\n",
    "                       desc=f'Epoch {epoch+1}/{config[\"num_epochs\"]} [Val]')\n",
    "        \n",
    "        with torch.no_grad():\n",
    "            for batch in val_pbar:\n",
    "                batch = batch.to(device, non_blocking=True)\n",
    "                outputs = model(batch)\n",
    "                loss = criterion(outputs, batch)\n",
    "                val_loss += loss.item()\n",
    "                val_pbar.set_postfix({\n",
    "                    'val_loss': format(loss.item(), f\".{config['precision_decimals']}f\")\n",
    "                })\n",
    "        \n",
    "        val_loss /= len(val_loader)\n",
    "        scheduler.step(val_loss)\n",
    "        \n",
    "        # Logging\n",
    "        writer.add_scalar('Loss/train', train_loss, epoch)\n",
    "        writer.add_scalar('Loss/val', val_loss, epoch)\n",
    "        writer.add_scalar('Learning Rate', optimizer.param_groups[0]['lr'], epoch)\n",
    "        \n",
    "        print(f\"\\nEpoch {epoch+1} Summary:\")\n",
    "        print(f\"Train Loss: {train_loss:.{config['precision_decimals']}f}\")\n",
    "        print(f\"Val Loss: {val_loss:.{config['precision_decimals']}f}\")\n",
    "        #print(f\"LR: {optimizer.param_groups[0]['lr']:.2e}\")\n",
    "        \n",
    "        # Save best model\n",
    "        if val_loss < best_loss:\n",
    "            best_loss = val_loss\n",
    "            early_stop_counter = 0\n",
    "            torch.save(model.state_dict(), 'best_model.pth')\n",
    "            save_reconstructions(test_loader, epoch)\n",
    "            #print(\"Saved best model and reconstructions\")\n",
    "        else:\n",
    "            early_stop_counter += 1\n",
    "            if early_stop_counter >= config['patience']:\n",
    "                print(f\"Early stopping triggered at epoch {epoch+1}\")\n",
    "                break\n",
    "    \n",
    "    # Final save\n",
    "    torch.save(model.state_dict(), 'final_model.pth')\n",
    "    writer.close()\n",
    "    print(\"Training complete!\")\n",
    "\n",
    "if __name__ == '__main__':\n",
    "    main()"
   ]
  },
  {
   "cell_type": "code",
   "execution_count": null,
   "id": "813d8c9b",
   "metadata": {
    "papermill": {
     "duration": 3.559641,
     "end_time": "2025-04-08T07:57:52.618229",
     "exception": false,
     "start_time": "2025-04-08T07:57:49.058588",
     "status": "completed"
    },
    "tags": []
   },
   "outputs": [],
   "source": []
  }
 ],
 "metadata": {
  "kaggle": {
   "accelerator": "gpu",
   "dataSources": [],
   "dockerImageVersionId": 30918,
   "isGpuEnabled": true,
   "isInternetEnabled": true,
   "language": "python",
   "sourceType": "notebook"
  },
  "kernelspec": {
   "display_name": "Python 3",
   "language": "python",
   "name": "python3"
  },
  "language_info": {
   "codemirror_mode": {
    "name": "ipython",
    "version": 3
   },
   "file_extension": ".py",
   "mimetype": "text/x-python",
   "name": "python",
   "nbconvert_exporter": "python",
   "pygments_lexer": "ipython3",
   "version": "3.10.12"
  },
  "papermill": {
   "default_parameters": {},
   "duration": 3916.813569,
   "end_time": "2025-04-08T07:57:59.394851",
   "environment_variables": {},
   "exception": null,
   "input_path": "__notebook__.ipynb",
   "output_path": "__notebook__.ipynb",
   "parameters": {},
   "start_time": "2025-04-08T06:52:42.581282",
   "version": "2.6.0"
  }
 },
 "nbformat": 4,
 "nbformat_minor": 5
}
